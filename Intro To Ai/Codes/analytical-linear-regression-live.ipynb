{
 "cells": [
  {
   "cell_type": "code",
   "execution_count": 19,
   "metadata": {},
   "outputs": [],
   "source": [
    "from sklearn.datasets import make_regression\n",
    "\n",
    "X, y = make_regression(n_samples=100, n_features=1, noise=20)\n"
   ]
  },
  {
   "cell_type": "code",
   "execution_count": 20,
   "metadata": {},
   "outputs": [
    {
     "data": {
      "image/png": "[encoded data removed]",
      "text/plain": [
       "<Figure size 432x288 with 1 Axes>"
      ]
     },
     "metadata": {
      "needs_background": "light"
     },
     "output_type": "display_data"
    }
   ],
   "source": [
    "%matplotlib inline\n",
    "import matplotlib.pyplot as plt\n",
    "\n",
    "plt.scatter(X, y,)\n",
    "plt.show()"
   ]
  },
  {
   "cell_type": "code",
   "execution_count": 21,
   "metadata": {},
   "outputs": [],
   "source": [
    "import numpy as np\n",
    "\n",
    "X = np.interp(X, (X.min(), X.max()), (20, 80))\n",
    "y = np.interp(y, (y.min(), y.max()), (100, 800))"
   ]
  },
  {
   "cell_type": "code",
   "execution_count": 22,
   "metadata": {},
   "outputs": [
    {
     "data": {
      "image/png": "[encoded data removed]",
      "text/plain": [
       "<Figure size 432x288 with 1 Axes>"
      ]
     },
     "metadata": {
      "needs_background": "light"
     },
     "output_type": "display_data"
    }
   ],
   "source": [
    "plt.scatter(X, y,)\n",
    "plt.xlabel('Square Meters')\n",
    "plt.ylabel('Price (k)')\n",
    "plt.show()"
   ]
  },
  {
   "cell_type": "code",
   "execution_count": 23,
   "metadata": {},
   "outputs": [
    {
     "data": {
      "text/plain": [
       "array([[ 1.        , 55.2934248 ],\n",
       "       [ 1.        , 45.4955932 ],\n",
       "       [ 1.        , 36.63702171],\n",
       "       [ 1.        , 20.        ],\n",
       "       [ 1.        , 59.02847203],\n",
       "       [ 1.        , 50.21473487],\n",
       "       [ 1.        , 43.29345491],\n",
       "       [ 1.        , 32.67256361],\n",
       "       [ 1.        , 53.4871875 ],\n",
       "       [ 1.        , 59.8014971 ],\n",
       "       [ 1.        , 38.01033578],\n",
       "       [ 1.        , 45.4915814 ],\n",
       "       [ 1.        , 38.54646283],\n",
       "       [ 1.        , 60.04501179],\n",
       "       [ 1.        , 46.02910255],\n",
       "       [ 1.        , 56.31214608],\n",
       "       [ 1.        , 46.1855624 ],\n",
       "       [ 1.        , 34.32137567],\n",
       "       [ 1.        , 52.85595282],\n",
       "       [ 1.        , 51.64562877],\n",
       "       [ 1.        , 44.42551601],\n",
       "       [ 1.        , 38.60156124],\n",
       "       [ 1.        , 52.91660043],\n",
       "       [ 1.        , 52.73709816],\n",
       "       [ 1.        , 41.03800379],\n",
       "       [ 1.        , 54.36394996],\n",
       "       [ 1.        , 56.70859703],\n",
       "       [ 1.        , 47.02331155],\n",
       "       [ 1.        , 38.55182836],\n",
       "       [ 1.        , 41.70530318],\n",
       "       [ 1.        , 46.17555925],\n",
       "       [ 1.        , 44.04354004],\n",
       "       [ 1.        , 31.59687831],\n",
       "       [ 1.        , 43.68174528],\n",
       "       [ 1.        , 46.64068819],\n",
       "       [ 1.        , 35.90426184],\n",
       "       [ 1.        , 37.61873899],\n",
       "       [ 1.        , 65.55902728],\n",
       "       [ 1.        , 56.32558536],\n",
       "       [ 1.        , 47.53157329],\n",
       "       [ 1.        , 52.82763719],\n",
       "       [ 1.        , 51.86918733],\n",
       "       [ 1.        , 50.93157901],\n",
       "       [ 1.        , 48.02881634],\n",
       "       [ 1.        , 49.25362136],\n",
       "       [ 1.        , 50.11743182],\n",
       "       [ 1.        , 47.72545288],\n",
       "       [ 1.        , 54.5438631 ],\n",
       "       [ 1.        , 29.15677201],\n",
       "       [ 1.        , 64.19070745],\n",
       "       [ 1.        , 45.08562556],\n",
       "       [ 1.        , 51.94996995],\n",
       "       [ 1.        , 48.10244623],\n",
       "       [ 1.        , 38.05335778],\n",
       "       [ 1.        , 38.64716279],\n",
       "       [ 1.        , 52.09568323],\n",
       "       [ 1.        , 55.59243369],\n",
       "       [ 1.        , 55.51792992],\n",
       "       [ 1.        , 50.65793791],\n",
       "       [ 1.        , 47.90644783],\n",
       "       [ 1.        , 51.37349093],\n",
       "       [ 1.        , 45.65722049],\n",
       "       [ 1.        , 37.88843743],\n",
       "       [ 1.        , 49.60660366],\n",
       "       [ 1.        , 60.49107835],\n",
       "       [ 1.        , 67.18756509],\n",
       "       [ 1.        , 52.94493021],\n",
       "       [ 1.        , 49.17209014],\n",
       "       [ 1.        , 80.        ],\n",
       "       [ 1.        , 56.19926286],\n",
       "       [ 1.        , 60.40375435],\n",
       "       [ 1.        , 34.96546196],\n",
       "       [ 1.        , 34.43546029],\n",
       "       [ 1.        , 57.86666965],\n",
       "       [ 1.        , 46.10690476],\n",
       "       [ 1.        , 58.35825378],\n",
       "       [ 1.        , 48.06011311],\n",
       "       [ 1.        , 54.61683454],\n",
       "       [ 1.        , 48.42828171],\n",
       "       [ 1.        , 25.86603129],\n",
       "       [ 1.        , 51.93942618],\n",
       "       [ 1.        , 54.73989023],\n",
       "       [ 1.        , 51.38615824],\n",
       "       [ 1.        , 62.69156185],\n",
       "       [ 1.        , 39.92889332],\n",
       "       [ 1.        , 51.41286326],\n",
       "       [ 1.        , 34.25974949],\n",
       "       [ 1.        , 45.15342896],\n",
       "       [ 1.        , 38.466876  ],\n",
       "       [ 1.        , 51.49138398],\n",
       "       [ 1.        , 64.70508094],\n",
       "       [ 1.        , 53.94776551],\n",
       "       [ 1.        , 38.68975638],\n",
       "       [ 1.        , 44.91689955],\n",
       "       [ 1.        , 71.76290385],\n",
       "       [ 1.        , 58.35302488],\n",
       "       [ 1.        , 49.32755008],\n",
       "       [ 1.        , 41.11872149],\n",
       "       [ 1.        , 35.21553324],\n",
       "       [ 1.        , 53.74588944]])"
      ]
     },
     "execution_count": 23,
     "metadata": {},
     "output_type": "execute_result"
    }
   ],
   "source": [
    "X = np.hstack((np.ones(shape=(len(X), 1)), X))\n",
    "X"
   ]
  },
  {
   "cell_type": "markdown",
   "metadata": {},
   "source": [
    "$$(\\mathbf{X}^T\\mathbf{X})^{-1} \\mathbf{X}^T\\mathbf{y}$$"
   ]
  },
  {
   "cell_type": "code",
   "execution_count": 24,
   "metadata": {},
   "outputs": [],
   "source": [
    "ls = np.linalg.inv(X.T.dot(X)).dot(X.T).dot(y)"
   ]
  },
  {
   "cell_type": "code",
   "execution_count": 25,
   "metadata": {},
   "outputs": [
    {
     "data": {
      "text/plain": [
       "array([-226.23658007,   12.99790462])"
      ]
     },
     "execution_count": 25,
     "metadata": {},
     "output_type": "execute_result"
    }
   ],
   "source": [
    "ls"
   ]
  },
  {
   "cell_type": "code",
   "execution_count": 26,
   "metadata": {},
   "outputs": [
    {
     "data": {
      "text/plain": [
       "array([492.46208142, 365.11080081, 249.96793361,  33.72151226,\n",
       "       541.00986906, 426.44975411, 336.48761738, 198.43828537,\n",
       "       468.98478123, 551.0575752 , 267.8181389 , 365.05865579,\n",
       "       274.78666713, 554.22275582, 372.04530443, 505.70332347,\n",
       "       374.07895466, 219.8693872 , 460.78005306, 445.04837656,\n",
       "       351.2020396 , 275.50283095, 461.56834499, 459.2351915 ,\n",
       "       307.17147883, 480.38085603, 510.85635508, 384.96793816,\n",
       "       274.85640779, 315.84497265, 373.94893462, 346.23715234,\n",
       "       184.45663035, 341.53457853, 379.99463623, 240.4435906 ,\n",
       "       262.72820111, 625.89340331, 505.87800597, 391.57427576,\n",
       "       460.4120092 , 447.95416933, 435.76722585, 398.0373936 ,\n",
       "       413.95729241, 425.18501831, 394.0943042 , 482.71934986,\n",
       "       152.74036138, 608.10811263, 359.78208051, 449.00417413,\n",
       "       398.99442791, 268.37733465, 276.09555561, 450.89814149,\n",
       "       496.34857037, 495.38017749, 432.21046498, 396.44685932,\n",
       "       441.51115486, 367.21161698, 266.23371567, 418.54532271,\n",
       "       560.02068643, 647.06098236, 461.93657275, 412.89755737,\n",
       "       813.59578925, 504.23607806, 558.88565747, 228.24115938,\n",
       "       221.35224818, 525.90887248, 373.05657015, 532.29843611,\n",
       "       398.44418599, 483.66782571, 403.22960635, 109.96762745,\n",
       "       448.8671273 , 485.26729183, 441.6758034 , 588.62236117,\n",
       "       292.75536672, 442.0229127 , 219.068376  , 360.6633827 ,\n",
       "       273.75220509, 443.04351743, 614.79389024, 474.97133026,\n",
       "       276.64918303, 357.58899598, 706.53079923, 532.23047136,\n",
       "       414.91821086, 308.22063985, 231.49156201, 472.34736445])"
      ]
     },
     "execution_count": 26,
     "metadata": {},
     "output_type": "execute_result"
    }
   ],
   "source": [
    "y_hat = X.dot(ls)\n",
    "y_hat"
   ]
  },
  {
   "cell_type": "code",
   "execution_count": 27,
   "metadata": {},
   "outputs": [
    {
     "data": {
      "text/plain": [
       "4377.34341714764"
      ]
     },
     "execution_count": 27,
     "metadata": {},
     "output_type": "execute_result"
    }
   ],
   "source": [
    "mse = np.mean((y.flatten() - y_hat) **2)\n",
    "mse"
   ]
  },
  {
   "cell_type": "code",
   "execution_count": 28,
   "metadata": {},
   "outputs": [
    {
     "data": {
      "image/png": "[encoded data removed]",
      "text/plain": [
       "<Figure size 432x288 with 1 Axes>"
      ]
     },
     "metadata": {
      "needs_background": "light"
     },
     "output_type": "display_data"
    }
   ],
   "source": [
    "plt.plot(X[:,1], y_hat, c='g', label='Model')\n",
    "plt.scatter(X[:,1], y, c='b', label='Data')\n",
    "\n",
    "plt.legend(loc='best')\n",
    "\n",
    "plt.xlabel('Square Meters')\n",
    "plt.ylabel('Price (k)')\n",
    "plt.show()\n"
   ]
  },
  {
   "cell_type": "code",
   "execution_count": 29,
   "metadata": {},
   "outputs": [
    {
     "data": {
      "text/plain": [
       "array([ 748.60626617, 1333.51197391])"
      ]
     },
     "execution_count": 29,
     "metadata": {},
     "output_type": "execute_result"
    }
   ],
   "source": [
    "new_x = np.array([[1, 75], [1, 120]])\n",
    "\n",
    "new_y_hat = new_x.dot(ls)\n",
    "\n",
    "new_y_hat"
   ]
  },
  {
   "cell_type": "code",
   "execution_count": 30,
   "metadata": {},
   "outputs": [
    {
     "data": {
      "image/png": "[encoded data removed]",
      "text/plain": [
       "<Figure size 432x288 with 1 Axes>"
      ]
     },
     "metadata": {
      "needs_background": "light"
     },
     "output_type": "display_data"
    }
   ],
   "source": [
    "plt.scatter(X[:,1], y, c='b', label='Data')\n",
    "\n",
    "X = np.concatenate((X, new_x))\n",
    "y_hat = np.concatenate((y_hat, new_y_hat))\n",
    "\n",
    "plt.plot(X[:,1], y_hat, c='g', label='Model')\n",
    "plt.scatter(new_x[:,1], new_y_hat, c='r')\n",
    "\n",
    "plt.legend(loc='best')\n",
    "\n",
    "plt.xlabel('Square Meters')\n",
    "plt.ylabel('Price (k)')\n",
    "\n",
    "plt.show()"
   ]
  },
  {
   "cell_type": "code",
   "execution_count": null,
   "metadata": {},
   "outputs": [],
   "source": [
    "3.25\n",
    "61.23\n",
    "8.8\t178.96\n",
    "2.2\t45.64\n",
    "2.71\t47.22\n",
    "11\t200\n",
    "6.22\t113.85\n",
    "10.28\t199.85\n",
    "7.22\t131.77\n",
    "5.58\t110.72\n",
    "1\t20"
   ]
  },
  {
   "cell_type": "code",
   "execution_count": null,
   "metadata": {},
   "outputs": [],
   "source": []
  }
 ],
 "metadata": {
  "kernelspec": {
   "display_name": "Python 3",
   "language": "python",
   "name": "python3"
  },
  "language_info": {
   "codemirror_mode": {
    "name": "ipython",
    "version": 3
   },
   "file_extension": ".py",
   "mimetype": "text/x-python",
   "name": "python",
   "nbconvert_exporter": "python",
   "pygments_lexer": "ipython3",
   "version": "3.8.5"
  }
 },
 "nbformat": 4,
 "nbformat_minor": 2
}
